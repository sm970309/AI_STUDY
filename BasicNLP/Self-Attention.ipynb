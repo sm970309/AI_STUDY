{
 "cells": [
  {
   "cell_type": "code",
   "execution_count": 10,
   "metadata": {
    "scrolled": true
   },
   "outputs": [
    {
     "data": {
      "text/plain": [
       "(torch.Size([3, 4]),\n",
       " tensor([[0.6812, 0.1726, 0.7270],\n",
       "         [0.4205, 0.5967, 0.8350],\n",
       "         [0.8305, 0.3806, 0.0499],\n",
       "         [0.3318, 0.8559, 0.6469]]),\n",
       " tensor([[0.4100, 0.6645, 0.2515],\n",
       "         [0.8937, 0.9054, 0.4265],\n",
       "         [0.5348, 0.1077, 0.7838],\n",
       "         [0.9338, 0.8526, 0.7905]]),\n",
       " torch.Size([4, 3]))"
      ]
     },
     "execution_count": 10,
     "metadata": {},
     "output_type": "execute_result"
    }
   ],
   "source": [
    "import torch\n",
    "\n",
    "x=torch.rand(12).view(-1,4)\n",
    "\n",
    "# q,k,v 세개의 가중치 행렬이 업데이트 -> 학습\n",
    "q = torch.rand(12).view(4,-1)\n",
    "k = torch.rand(12).view(4,-1)\n",
    "v = torch.rand(12).view(4,-1)\n",
    "x.shape,q,k,v.shape"
   ]
  },
  {
   "cell_type": "markdown",
   "metadata": {},
   "source": [
    "### key, query, value 벡터들 정의"
   ]
  },
  {
   "cell_type": "code",
   "execution_count": 20,
   "metadata": {},
   "outputs": [
    {
     "data": {
      "text/plain": [
       "tensor([[3.8830, 3.1065, 4.5873],\n",
       "        [2.9529, 2.2715, 3.4140],\n",
       "        [4.4788, 3.5139, 5.2343]])"
      ]
     },
     "execution_count": 20,
     "metadata": {},
     "output_type": "execute_result"
    }
   ],
   "source": [
    "keys = torch.matmul(x,k)\n",
    "querys = torch.matmul(x,q)\n",
    "values = torch.matmul(x,v)\n",
    "\n",
    "attn_scores = torch.matmul(querys,keys.T)\n",
    "attn_scores"
   ]
  },
  {
   "cell_type": "markdown",
   "metadata": {},
   "source": [
    "### 셀프 어텐션 계산"
   ]
  },
  {
   "cell_type": "code",
   "execution_count": 26,
   "metadata": {},
   "outputs": [
    {
     "data": {
      "text/plain": [
       "tensor([[0.3184, 0.2034, 0.4782],\n",
       "        [0.3356, 0.2264, 0.4380],\n",
       "        [0.3205, 0.1836, 0.4958]])"
      ]
     },
     "execution_count": 26,
     "metadata": {},
     "output_type": "execute_result"
    }
   ],
   "source": [
    "import numpy as np\n",
    "import torch.nn.functional as F\n",
    "\n",
    "key_dim_sqrt = np.sqrt(keys.shape[-1])\n",
    "attn_probs = F.softmax(attn_scores/key_dim_sqrt, dim=1)\n",
    "\n",
    "attn_probs"
   ]
  },
  {
   "cell_type": "code",
   "execution_count": 33,
   "metadata": {},
   "outputs": [
    {
     "data": {
      "text/plain": [
       "tensor([[0.8030, 0.4670, 1.0156],\n",
       "        [0.7926, 0.4612, 1.0042],\n",
       "        [0.8069, 0.4716, 1.0217]])"
      ]
     },
     "execution_count": 33,
     "metadata": {},
     "output_type": "execute_result"
    }
   ],
   "source": [
    "weighted_values = torch.matmul(attn_probs,values)\n",
    "weighted_values"
   ]
  }
 ],
 "metadata": {
  "kernelspec": {
   "display_name": "Python 3",
   "language": "python",
   "name": "python3"
  },
  "language_info": {
   "codemirror_mode": {
    "name": "ipython",
    "version": 3
   },
   "file_extension": ".py",
   "mimetype": "text/x-python",
   "name": "python",
   "nbconvert_exporter": "python",
   "pygments_lexer": "ipython3",
   "version": "3.8.5"
  }
 },
 "nbformat": 4,
 "nbformat_minor": 4
}
