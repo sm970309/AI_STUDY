{
 "cells": [
  {
   "cell_type": "markdown",
   "id": "0f5848ca",
   "metadata": {},
   "source": [
    "## 교제에서는 ratsnlp를 사용하여 colab에서 구현\n",
    "### -> Local에서 구현하기 위해 HuggingFace 참고"
   ]
  },
  {
   "cell_type": "code",
   "execution_count": 1,
   "id": "2ab680d6",
   "metadata": {},
   "outputs": [],
   "source": [
    "import torch\n",
    "from transformers import TrainingArguments,BertForSequenceClassification,BertTokenizer,Trainer,DataCollatorWithPadding\n",
    "from Korpora import Korpora\n",
    "from datasets import load_dataset"
   ]
  },
  {
   "cell_type": "code",
   "execution_count": 3,
   "id": "6e7141dc",
   "metadata": {},
   "outputs": [],
   "source": [
    "args = TrainingArguments(\n",
    "    output_dir='E:/Model/checkpoint-doccls',\n",
    "    per_device_train_batch_size=32 if torch.cuda.is_available() else 4,\n",
    "    per_device_eval_batch_size=32 if torch.cuda.is_available() else 4,\n",
    "    num_train_epochs=3,\n",
    "    learning_rate=5e-5,\n",
    "    tpu_num_cores=0 if torch.cuda.is_available() else 8,\n",
    "    seed=7\n",
    ")"
   ]
  },
  {
   "cell_type": "markdown",
   "id": "45d53948",
   "metadata": {},
   "source": [
    "### BertTokenizer pretrained 모델인 kcbert 사용"
   ]
  },
  {
   "cell_type": "code",
   "execution_count": 9,
   "id": "edc486a3",
   "metadata": {},
   "outputs": [],
   "source": [
    "tokenizer = BertTokenizer.from_pretrained(\n",
    "    'beomi/kcbert-base',\n",
    "    do_lower_case = False\n",
    ")"
   ]
  },
  {
   "cell_type": "markdown",
   "id": "46b09120",
   "metadata": {},
   "source": [
    "### load_dataset을 사용해 nsmc 데이터 로드"
   ]
  },
  {
   "cell_type": "code",
   "execution_count": 5,
   "id": "28013fea",
   "metadata": {
    "scrolled": true
   },
   "outputs": [
    {
     "name": "stderr",
     "output_type": "stream",
     "text": [
      "Found cached dataset nsmc (C:/Users/고성민/.cache/huggingface/datasets/nsmc/default/1.1.0/bfd4729bf1a67114e5267e6916b9e4807010aeb238e4a3c2b95fbfa3a014b5f3)\n"
     ]
    },
    {
     "data": {
      "application/vnd.jupyter.widget-view+json": {
       "model_id": "5a59db16ea5444f3a917cc553261ff59",
       "version_major": 2,
       "version_minor": 0
      },
      "text/plain": [
       "  0%|          | 0/2 [00:00<?, ?it/s]"
      ]
     },
     "metadata": {},
     "output_type": "display_data"
    },
    {
     "data": {
      "text/plain": [
       "{'id': '6270596', 'document': '굳 ㅋ', 'label': 1}"
      ]
     },
     "execution_count": 5,
     "metadata": {},
     "output_type": "execute_result"
    }
   ],
   "source": [
    "dataset = load_dataset('nsmc')\n",
    "dataset['test'][0]"
   ]
  },
  {
   "cell_type": "markdown",
   "id": "14d9f767",
   "metadata": {},
   "source": [
    "### document(text)를 기준으로 toknizing \n",
    "> * batched : map을 적용할때 한번에 하지않고 batch 단위로 나눠서함\n",
    "> * remove_columns: id와 document column은 tokenizing 이후 필요없어 제거"
   ]
  },
  {
   "cell_type": "code",
   "execution_count": 6,
   "id": "3e558247",
   "metadata": {
    "scrolled": false
   },
   "outputs": [
    {
     "name": "stderr",
     "output_type": "stream",
     "text": [
      "Loading cached processed dataset at C:\\Users\\고성민\\.cache\\huggingface\\datasets\\nsmc\\default\\1.1.0\\bfd4729bf1a67114e5267e6916b9e4807010aeb238e4a3c2b95fbfa3a014b5f3\\cache-7bd95b1122c48121.arrow\n",
      "Loading cached processed dataset at C:\\Users\\고성민\\.cache\\huggingface\\datasets\\nsmc\\default\\1.1.0\\bfd4729bf1a67114e5267e6916b9e4807010aeb238e4a3c2b95fbfa3a014b5f3\\cache-facb9451f9c7c751.arrow\n"
     ]
    }
   ],
   "source": [
    "dataset = dataset.map(lambda examples: tokenizer(examples['document'],padding='max_length',truncation=True,max_length=128), batched=True)\n",
    "dataset = dataset.remove_columns(['id','document'])"
   ]
  },
  {
   "cell_type": "markdown",
   "id": "4e675f39",
   "metadata": {},
   "source": [
    "### DataCollatorWithPadding을 사용해 패딩 설정 가능"
   ]
  },
  {
   "cell_type": "code",
   "execution_count": 91,
   "id": "74f320bd",
   "metadata": {},
   "outputs": [],
   "source": [
    "data_collator = DataCollatorWithPadding(tokenizer=tokenizer,padding='max_length',max_length=128)"
   ]
  },
  {
   "cell_type": "code",
   "execution_count": 92,
   "id": "940e2bdf",
   "metadata": {},
   "outputs": [
    {
     "ename": "NameError",
     "evalue": "name 'dataset' is not defined",
     "output_type": "error",
     "traceback": [
      "\u001b[1;31m---------------------------------------------------------------------------\u001b[0m",
      "\u001b[1;31mNameError\u001b[0m                                 Traceback (most recent call last)",
      "Cell \u001b[1;32mIn[92], line 1\u001b[0m\n\u001b[1;32m----> 1\u001b[0m train_dataset \u001b[38;5;241m=\u001b[39m \u001b[43mdataset\u001b[49m[\u001b[38;5;124m'\u001b[39m\u001b[38;5;124mtrain\u001b[39m\u001b[38;5;124m'\u001b[39m]\n\u001b[0;32m      2\u001b[0m test_dataset \u001b[38;5;241m=\u001b[39m dataset[\u001b[38;5;124m'\u001b[39m\u001b[38;5;124mtest\u001b[39m\u001b[38;5;124m'\u001b[39m]\n",
      "\u001b[1;31mNameError\u001b[0m: name 'dataset' is not defined"
     ]
    }
   ],
   "source": [
    "train_dataset = dataset['train']\n",
    "test_dataset = dataset['test']"
   ]
  },
  {
   "cell_type": "markdown",
   "id": "491be9d7",
   "metadata": {},
   "source": [
    "### BertForSequenceClassification 모델의 kcbert-base 사용\n",
    "> * cuda사용해서 train"
   ]
  },
  {
   "cell_type": "code",
   "execution_count": 3,
   "id": "802b7d0c",
   "metadata": {},
   "outputs": [
    {
     "name": "stderr",
     "output_type": "stream",
     "text": [
      "Some weights of the model checkpoint at beomi/kcbert-base were not used when initializing BertForSequenceClassification: ['cls.predictions.bias', 'cls.predictions.transform.dense.weight', 'cls.seq_relationship.bias', 'cls.seq_relationship.weight', 'cls.predictions.decoder.weight', 'cls.predictions.decoder.bias', 'cls.predictions.transform.dense.bias', 'cls.predictions.transform.LayerNorm.weight', 'cls.predictions.transform.LayerNorm.bias']\n",
      "- This IS expected if you are initializing BertForSequenceClassification from the checkpoint of a model trained on another task or with another architecture (e.g. initializing a BertForSequenceClassification model from a BertForPreTraining model).\n",
      "- This IS NOT expected if you are initializing BertForSequenceClassification from the checkpoint of a model that you expect to be exactly identical (initializing a BertForSequenceClassification model from a BertForSequenceClassification model).\n",
      "Some weights of BertForSequenceClassification were not initialized from the model checkpoint at beomi/kcbert-base and are newly initialized: ['classifier.bias', 'classifier.weight']\n",
      "You should probably TRAIN this model on a down-stream task to be able to use it for predictions and inference.\n"
     ]
    },
    {
     "data": {
      "text/plain": [
       "BertForSequenceClassification(\n",
       "  (bert): BertModel(\n",
       "    (embeddings): BertEmbeddings(\n",
       "      (word_embeddings): Embedding(30000, 768, padding_idx=0)\n",
       "      (position_embeddings): Embedding(300, 768)\n",
       "      (token_type_embeddings): Embedding(2, 768)\n",
       "      (LayerNorm): LayerNorm((768,), eps=1e-12, elementwise_affine=True)\n",
       "      (dropout): Dropout(p=0.1, inplace=False)\n",
       "    )\n",
       "    (encoder): BertEncoder(\n",
       "      (layer): ModuleList(\n",
       "        (0-11): 12 x BertLayer(\n",
       "          (attention): BertAttention(\n",
       "            (self): BertSelfAttention(\n",
       "              (query): Linear(in_features=768, out_features=768, bias=True)\n",
       "              (key): Linear(in_features=768, out_features=768, bias=True)\n",
       "              (value): Linear(in_features=768, out_features=768, bias=True)\n",
       "              (dropout): Dropout(p=0.1, inplace=False)\n",
       "            )\n",
       "            (output): BertSelfOutput(\n",
       "              (dense): Linear(in_features=768, out_features=768, bias=True)\n",
       "              (LayerNorm): LayerNorm((768,), eps=1e-12, elementwise_affine=True)\n",
       "              (dropout): Dropout(p=0.1, inplace=False)\n",
       "            )\n",
       "          )\n",
       "          (intermediate): BertIntermediate(\n",
       "            (dense): Linear(in_features=768, out_features=3072, bias=True)\n",
       "            (intermediate_act_fn): GELUActivation()\n",
       "          )\n",
       "          (output): BertOutput(\n",
       "            (dense): Linear(in_features=3072, out_features=768, bias=True)\n",
       "            (LayerNorm): LayerNorm((768,), eps=1e-12, elementwise_affine=True)\n",
       "            (dropout): Dropout(p=0.1, inplace=False)\n",
       "          )\n",
       "        )\n",
       "      )\n",
       "    )\n",
       "    (pooler): BertPooler(\n",
       "      (dense): Linear(in_features=768, out_features=768, bias=True)\n",
       "      (activation): Tanh()\n",
       "    )\n",
       "  )\n",
       "  (dropout): Dropout(p=0.1, inplace=False)\n",
       "  (classifier): Linear(in_features=768, out_features=2, bias=True)\n",
       ")"
      ]
     },
     "execution_count": 3,
     "metadata": {},
     "output_type": "execute_result"
    }
   ],
   "source": [
    "model = BertForSequenceClassification.from_pretrained(\"beomi/kcbert-base\")\n",
    "model.to('cuda')"
   ]
  },
  {
   "cell_type": "code",
   "execution_count": 10,
   "id": "16737aeb",
   "metadata": {},
   "outputs": [],
   "source": [
    "trainer = Trainer(\n",
    "    model=model,\n",
    "    args=args,\n",
    "    train_dataset=train_dataset,\n",
    "    eval_dataset=test_dataset,\n",
    "    tokenizer=tokenizer,\n",
    "    data_collator=data_collator\n",
    ")"
   ]
  },
  {
   "cell_type": "code",
   "execution_count": 11,
   "id": "17753062",
   "metadata": {},
   "outputs": [
    {
     "data": {
      "text/html": [
       "\n",
       "    <div>\n",
       "      \n",
       "      <progress value='14064' max='14064' style='width:300px; height:20px; vertical-align: middle;'></progress>\n",
       "      [14064/14064 3:31:10, Epoch 3/3]\n",
       "    </div>\n",
       "    <table border=\"1\" class=\"dataframe\">\n",
       "  <thead>\n",
       " <tr style=\"text-align: left;\">\n",
       "      <th>Step</th>\n",
       "      <th>Training Loss</th>\n",
       "    </tr>\n",
       "  </thead>\n",
       "  <tbody>\n",
       "    <tr>\n",
       "      <td>500</td>\n",
       "      <td>0.394900</td>\n",
       "    </tr>\n",
       "    <tr>\n",
       "      <td>1000</td>\n",
       "      <td>0.335900</td>\n",
       "    </tr>\n",
       "    <tr>\n",
       "      <td>1500</td>\n",
       "      <td>0.325800</td>\n",
       "    </tr>\n",
       "    <tr>\n",
       "      <td>2000</td>\n",
       "      <td>0.308400</td>\n",
       "    </tr>\n",
       "    <tr>\n",
       "      <td>2500</td>\n",
       "      <td>0.293700</td>\n",
       "    </tr>\n",
       "    <tr>\n",
       "      <td>3000</td>\n",
       "      <td>0.286600</td>\n",
       "    </tr>\n",
       "    <tr>\n",
       "      <td>3500</td>\n",
       "      <td>0.288800</td>\n",
       "    </tr>\n",
       "    <tr>\n",
       "      <td>4000</td>\n",
       "      <td>0.282400</td>\n",
       "    </tr>\n",
       "    <tr>\n",
       "      <td>4500</td>\n",
       "      <td>0.276200</td>\n",
       "    </tr>\n",
       "    <tr>\n",
       "      <td>5000</td>\n",
       "      <td>0.224300</td>\n",
       "    </tr>\n",
       "    <tr>\n",
       "      <td>5500</td>\n",
       "      <td>0.199500</td>\n",
       "    </tr>\n",
       "    <tr>\n",
       "      <td>6000</td>\n",
       "      <td>0.206100</td>\n",
       "    </tr>\n",
       "    <tr>\n",
       "      <td>6500</td>\n",
       "      <td>0.196600</td>\n",
       "    </tr>\n",
       "    <tr>\n",
       "      <td>7000</td>\n",
       "      <td>0.195400</td>\n",
       "    </tr>\n",
       "    <tr>\n",
       "      <td>7500</td>\n",
       "      <td>0.191500</td>\n",
       "    </tr>\n",
       "    <tr>\n",
       "      <td>8000</td>\n",
       "      <td>0.195300</td>\n",
       "    </tr>\n",
       "    <tr>\n",
       "      <td>8500</td>\n",
       "      <td>0.191500</td>\n",
       "    </tr>\n",
       "    <tr>\n",
       "      <td>9000</td>\n",
       "      <td>0.181600</td>\n",
       "    </tr>\n",
       "    <tr>\n",
       "      <td>9500</td>\n",
       "      <td>0.173100</td>\n",
       "    </tr>\n",
       "    <tr>\n",
       "      <td>10000</td>\n",
       "      <td>0.117100</td>\n",
       "    </tr>\n",
       "    <tr>\n",
       "      <td>10500</td>\n",
       "      <td>0.107100</td>\n",
       "    </tr>\n",
       "    <tr>\n",
       "      <td>11000</td>\n",
       "      <td>0.105200</td>\n",
       "    </tr>\n",
       "    <tr>\n",
       "      <td>11500</td>\n",
       "      <td>0.112900</td>\n",
       "    </tr>\n",
       "    <tr>\n",
       "      <td>12000</td>\n",
       "      <td>0.111800</td>\n",
       "    </tr>\n",
       "    <tr>\n",
       "      <td>12500</td>\n",
       "      <td>0.106900</td>\n",
       "    </tr>\n",
       "    <tr>\n",
       "      <td>13000</td>\n",
       "      <td>0.110800</td>\n",
       "    </tr>\n",
       "    <tr>\n",
       "      <td>13500</td>\n",
       "      <td>0.103900</td>\n",
       "    </tr>\n",
       "    <tr>\n",
       "      <td>14000</td>\n",
       "      <td>0.100200</td>\n",
       "    </tr>\n",
       "  </tbody>\n",
       "</table><p>"
      ],
      "text/plain": [
       "<IPython.core.display.HTML object>"
      ]
     },
     "metadata": {},
     "output_type": "display_data"
    },
    {
     "data": {
      "text/plain": [
       "TrainOutput(global_step=14064, training_loss=0.20394258287579534, metrics={'train_runtime': 12666.2256, 'train_samples_per_second': 35.528, 'train_steps_per_second': 1.11, 'total_flos': 2.9599993728e+16, 'train_loss': 0.20394258287579534, 'epoch': 3.0})"
      ]
     },
     "execution_count": 11,
     "metadata": {},
     "output_type": "execute_result"
    }
   ],
   "source": [
    "trainer.train()"
   ]
  },
  {
   "cell_type": "markdown",
   "id": "1fd116ff",
   "metadata": {},
   "source": [
    "# 모델 테스트"
   ]
  },
  {
   "cell_type": "markdown",
   "id": "2d2e1aa4",
   "metadata": {},
   "source": [
    "## 가장 성능이 좋은 모델 찾기"
   ]
  },
  {
   "cell_type": "code",
   "execution_count": 4,
   "id": "426e8893",
   "metadata": {
    "scrolled": false
   },
   "outputs": [],
   "source": [
    "import os\n",
    "import json\n",
    "\n",
    "# 마지막 데이터가 저장된 위치\n",
    "path = 'E:\\Model\\checkpoint-doccls\\checkpoint-14000'\n",
    "loss_step=[]\n",
    "state = os.path.join(path,'trainer_state.json') \n",
    "with open(state,'r') as f:\n",
    "    for log in json.load(f)['log_history']:\n",
    "        loss,step = log['loss'],log['step']\n",
    "        loss_step.append((loss,step))"
   ]
  },
  {
   "cell_type": "code",
   "execution_count": 5,
   "id": "24117139",
   "metadata": {
    "scrolled": true
   },
   "outputs": [
    {
     "data": {
      "text/plain": [
       "(0.1002, 14000)"
      ]
     },
     "execution_count": 5,
     "metadata": {},
     "output_type": "execute_result"
    }
   ],
   "source": [
    "loss,step = sorted(loss_step)[0]\n",
    "loss,step"
   ]
  },
  {
   "cell_type": "code",
   "execution_count": 6,
   "id": "3863c656",
   "metadata": {},
   "outputs": [],
   "source": [
    "model_path = f'E:/Model/checkpoint-doccls/checkpoint-{step}'\n",
    "fine_tuned_model = BertForSequenceClassification.from_pretrained(model_path)"
   ]
  },
  {
   "cell_type": "markdown",
   "id": "7a23a914",
   "metadata": {},
   "source": [
    "### 예측해보기\n",
    "> * predict : fine_tuning 전 bert 모델\n",
    "> * nsmc_predict : nsmc 데이터셋으로 fine_tuning한 모델"
   ]
  },
  {
   "cell_type": "code",
   "execution_count": 7,
   "id": "965cdfe0",
   "metadata": {},
   "outputs": [],
   "source": [
    "def predict(sentence):\n",
    "    features = tokenizer(\n",
    "        [sentence],\n",
    "        max_length=128,\n",
    "        padding='max_length',\n",
    "        truncation=True\n",
    "    )\n",
    "\n",
    "    features = {k:torch.tensor(v) for k,v in features.items()}\n",
    "    with torch.no_grad():\n",
    "        outputs = model(**features)\n",
    "        prob = outputs.logits.softmax(dim=1)[0]\n",
    "        pos,neg = round(prob[1].item(),4),round(prob[0].item(),4)\n",
    "        pred = \"긍정\" if torch.argmax(prob)==1 else \"부정\"\n",
    "        return {\n",
    "            'fine_tuned' : False,\n",
    "            'sentence':sentence,\n",
    "            'pos':pos,\n",
    "            'neg':neg,\n",
    "            'pred':pred\n",
    "        }\n",
    "    \n",
    "def nsmc_predict(sentence):\n",
    "    features = tokenizer(\n",
    "        [sentence],\n",
    "        max_length=128,\n",
    "        padding='max_length',\n",
    "        truncation=True\n",
    "    )\n",
    "\n",
    "    features = {k:torch.tensor(v) for k,v in features.items()}\n",
    "    with torch.no_grad():\n",
    "        outputs = fine_tuned_model(**features)\n",
    "        prob = outputs.logits.softmax(dim=1)[0]\n",
    "        pos,neg = round(prob[1].item(),4),round(prob[0].item(),4)\n",
    "        pred = \"긍정\" if torch.argmax(prob)==1 else \"부정\"\n",
    "        return {\n",
    "            'fine_tuned' : True,\n",
    "            'sentence':sentence,\n",
    "            'pos':pos,\n",
    "            'neg':neg,\n",
    "            'pred':pred\n",
    "        }"
   ]
  },
  {
   "cell_type": "code",
   "execution_count": 12,
   "id": "4ad2ae46",
   "metadata": {
    "scrolled": true
   },
   "outputs": [
    {
     "name": "stdout",
     "output_type": "stream",
     "text": [
      "문장 입력 :한번 더 보고싶네\n"
     ]
    },
    {
     "data": {
      "text/plain": [
       "({'fine_tuned': False,\n",
       "  'sentence': '한번 더 보고싶네',\n",
       "  'pos': 0.3856,\n",
       "  'neg': 0.6144,\n",
       "  'pred': '부정'},\n",
       " {'fine_tuned': True,\n",
       "  'sentence': '한번 더 보고싶네',\n",
       "  'pos': 0.9812,\n",
       "  'neg': 0.0188,\n",
       "  'pred': '긍정'})"
      ]
     },
     "execution_count": 12,
     "metadata": {},
     "output_type": "execute_result"
    }
   ],
   "source": [
    "sentence = input('문장 입력 :')\n",
    "predict(sentence),nsmc_predict(sentence)"
   ]
  },
  {
   "cell_type": "markdown",
   "id": "554b943f",
   "metadata": {},
   "source": [
    "## 다른 방법 -> TextClassificationPipeline 사용"
   ]
  },
  {
   "cell_type": "code",
   "execution_count": 106,
   "id": "d6aa9c90",
   "metadata": {},
   "outputs": [],
   "source": [
    "from transformers import TextClassificationPipeline"
   ]
  },
  {
   "cell_type": "code",
   "execution_count": 225,
   "id": "1872374b",
   "metadata": {},
   "outputs": [
    {
     "name": "stderr",
     "output_type": "stream",
     "text": [
      "C:\\conda\\envs\\torch-gpu\\lib\\site-packages\\transformers\\pipelines\\text_classification.py:104: UserWarning: `return_all_scores` is now deprecated,  if want a similar funcionality use `top_k=None` instead of `return_all_scores=True` or `top_k=1` instead of `return_all_scores=False`.\n",
      "  warnings.warn(\n"
     ]
    }
   ],
   "source": [
    "predict=TextClassificationPipeline(model=model,tokenizer=tokenizer,return_all_scores=True)\n",
    "nsmc_predict=TextClassificationPipeline(model=fine_tuned_model,tokenizer=tokenizer,return_all_scores=True)"
   ]
  },
  {
   "cell_type": "code",
   "execution_count": 226,
   "id": "dd073a4f",
   "metadata": {},
   "outputs": [
    {
     "name": "stdout",
     "output_type": "stream",
     "text": [
      "문장 입력 :한번 더 보고싶다.\n"
     ]
    },
    {
     "data": {
      "text/plain": [
       "([[{'label': 'LABEL_0', 'score': 0.5195181965827942},\n",
       "   {'label': 'LABEL_1', 'score': 0.4804818332195282}]],\n",
       " [[{'label': 'LABEL_0', 'score': 0.02928623929619789},\n",
       "   {'label': 'LABEL_1', 'score': 0.97071373462677}]])"
      ]
     },
     "execution_count": 226,
     "metadata": {},
     "output_type": "execute_result"
    }
   ],
   "source": [
    "sentence = input('문장 입력 :')\n",
    "predict(sentence),nsmc_predict(sentence)"
   ]
  }
 ],
 "metadata": {
  "kernelspec": {
   "display_name": "Python 3 (ipykernel)",
   "language": "python",
   "name": "python3"
  },
  "language_info": {
   "codemirror_mode": {
    "name": "ipython",
    "version": 3
   },
   "file_extension": ".py",
   "mimetype": "text/x-python",
   "name": "python",
   "nbconvert_exporter": "python",
   "pygments_lexer": "ipython3",
   "version": "3.10.10"
  }
 },
 "nbformat": 4,
 "nbformat_minor": 5
}
