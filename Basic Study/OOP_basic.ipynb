{
 "cells": [
  {
   "cell_type": "code",
   "execution_count": 36,
   "id": "c508c317",
   "metadata": {},
   "outputs": [],
   "source": [
    "class SoccerPlayer:\n",
    "    def __init__(self,name,position,back_number):\n",
    "        self.name = name\n",
    "        self.position = position\n",
    "        self.back_number = back_number\n",
    "        \n",
    "    # print문을 사용했을때 출력되는 구문\n",
    "    def __str__(self):\n",
    "        return \"Hello, My name is %s.(Back Number: %d)\" %(self.name,self.back_number)\n",
    "    \n",
    "    # + 를 사용, other를 사용하여 다른 객체의 값을 가져올 수 있음\n",
    "    def __add__(self,other):\n",
    "        return self.name+other.name\n",
    "    \n",
    "    def change_back_number(self,number):\n",
    "        print(f\"등번호 변경 {self.back_number} to {number}\")\n",
    "        self.back_number = number\n",
    "    "
   ]
  },
  {
   "cell_type": "code",
   "execution_count": 41,
   "id": "cf77ce19",
   "metadata": {},
   "outputs": [],
   "source": [
    "abc = SoccerPlayer(\"Ko\",\"MF\",6)\n",
    "ddd = SoccerPlayer(\"Son\",\"FW\",7)"
   ]
  },
  {
   "cell_type": "code",
   "execution_count": 42,
   "id": "a784dc7a",
   "metadata": {},
   "outputs": [
    {
     "name": "stdout",
     "output_type": "stream",
     "text": [
      "Hello, My name is Ko.(Back Number: 6)\n"
     ]
    }
   ],
   "source": [
    "print(abc)"
   ]
  },
  {
   "cell_type": "code",
   "execution_count": 43,
   "id": "7e240d7d",
   "metadata": {},
   "outputs": [
    {
     "name": "stdout",
     "output_type": "stream",
     "text": [
      "등번호 변경 6 to 10\n",
      "Hello, My name is Ko.(Back Number: 10)\n"
     ]
    }
   ],
   "source": [
    "abc.change_back_number(10)\n",
    "print(abc)"
   ]
  },
  {
   "cell_type": "code",
   "execution_count": 44,
   "id": "6b8d629e",
   "metadata": {},
   "outputs": [
    {
     "data": {
      "text/plain": [
       "'KoSon'"
      ]
     },
     "execution_count": 44,
     "metadata": {},
     "output_type": "execute_result"
    }
   ],
   "source": [
    "abc + ddd"
   ]
  },
  {
   "cell_type": "code",
   "execution_count": 102,
   "id": "1308f57a",
   "metadata": {},
   "outputs": [],
   "source": [
    "class Note:\n",
    "    def __init__(self,content = None):\n",
    "        self.content = content\n",
    "    def write_content(self,new_content):\n",
    "        self.content = new_content\n",
    "    def remove_all(self):\n",
    "        self.content = \"\"\n",
    "    def __add__(self,other):\n",
    "        return self.content+other.content\n",
    "    def __str__(self):\n",
    "        return self.content\n",
    "\n",
    "class Notebook:\n",
    "    def __init__(self,title):\n",
    "        self.title = title\n",
    "        self.page_number = 1\n",
    "        self.notes = {}\n",
    "    def add_note(self,note,page=0):\n",
    "        if self.page_number<300:\n",
    "            if page==0:\n",
    "                self.notes[self.page_number]=note\n",
    "                self.page_number += 1\n",
    "            else:\n",
    "                self.notes[page] = note\n",
    "                self.page_number += 1\n",
    "        else:\n",
    "            print(\"Page가 모두 채워졌습니다.\")\n",
    "    def remove_note(self,page_num):\n",
    "        if page_num in self.notes.keys():\n",
    "            self.notes.pop(page_num)\n",
    "        else:\n",
    "            print(\"해당 페이지가 없습니다.\")\n",
    "    def get_number_of_pages(self):\n",
    "        return self.notes.keys()"
   ]
  },
  {
   "cell_type": "code",
   "execution_count": 115,
   "id": "2adb4833",
   "metadata": {},
   "outputs": [
    {
     "name": "stdout",
     "output_type": "stream",
     "text": [
      "hi\n",
      "hello\n",
      "hihello\n"
     ]
    },
    {
     "data": {
      "text/plain": [
       "dict_keys([1, 2])"
      ]
     },
     "execution_count": 115,
     "metadata": {},
     "output_type": "execute_result"
    }
   ],
   "source": [
    "note1 = Note(\"hi\")\n",
    "note2 = Note(\"hello\")\n",
    "notebook = Notebook(\"note\")\n",
    "notebook.add_note(note1)\n",
    "notebook.add_note(note2)\n",
    "notebook.add_note(note1+note2,5)\n",
    "\n",
    "for i in notebook.notes.values():\n",
    "    print(i)\n",
    "\n",
    "notebook.remove_note(5)\n",
    "notebook.get_number_of_pages()"
   ]
  }
 ],
 "metadata": {
  "kernelspec": {
   "display_name": "Python 3",
   "language": "python",
   "name": "python3"
  },
  "language_info": {
   "codemirror_mode": {
    "name": "ipython",
    "version": 3
   },
   "file_extension": ".py",
   "mimetype": "text/x-python",
   "name": "python",
   "nbconvert_exporter": "python",
   "pygments_lexer": "ipython3",
   "version": "3.8.8"
  }
 },
 "nbformat": 4,
 "nbformat_minor": 5
}
