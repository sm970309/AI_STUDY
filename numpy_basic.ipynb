{
 "cells": [
  {
   "cell_type": "code",
   "execution_count": 1,
   "id": "0a4407f8",
   "metadata": {},
   "outputs": [],
   "source": [
    "import numpy as np"
   ]
  },
  {
   "cell_type": "code",
   "execution_count": 6,
   "id": "e129682a",
   "metadata": {},
   "outputs": [
    {
     "data": {
      "text/plain": [
       "array([[0, 1, 2, 3, 4],\n",
       "       [5, 6, 7, 8, 9]])"
      ]
     },
     "execution_count": 6,
     "metadata": {},
     "output_type": "execute_result"
    }
   ],
   "source": [
    "a = np.arange(10)\n",
    "a = np.reshape(a,(2,5))\n",
    "a"
   ]
  },
  {
   "cell_type": "code",
   "execution_count": 7,
   "id": "89f9dd4d",
   "metadata": {},
   "outputs": [
    {
     "data": {
      "text/plain": [
       "array([[ True,  True,  True,  True, False],\n",
       "       [False, False, False, False, False]])"
      ]
     },
     "execution_count": 7,
     "metadata": {},
     "output_type": "execute_result"
    }
   ],
   "source": [
    "a<4"
   ]
  },
  {
   "cell_type": "code",
   "execution_count": 9,
   "id": "cd9e1d8a",
   "metadata": {},
   "outputs": [
    {
     "data": {
      "text/plain": [
       "True"
      ]
     },
     "execution_count": 9,
     "metadata": {},
     "output_type": "execute_result"
    }
   ],
   "source": [
    "# or 조건 any\n",
    "np.any(a>5)"
   ]
  },
  {
   "cell_type": "code",
   "execution_count": 11,
   "id": "14cfdf08",
   "metadata": {},
   "outputs": [
    {
     "data": {
      "text/plain": [
       "False"
      ]
     },
     "execution_count": 11,
     "metadata": {},
     "output_type": "execute_result"
    }
   ],
   "source": [
    "# and 조건 all\n",
    "np.all(a>5)"
   ]
  },
  {
   "cell_type": "code",
   "execution_count": 31,
   "id": "e1e734a0",
   "metadata": {},
   "outputs": [
    {
     "data": {
      "text/plain": [
       "array([[8, 7, 8, 8, 2],\n",
       "       [4, 6, 8, 5, 3]])"
      ]
     },
     "execution_count": 31,
     "metadata": {},
     "output_type": "execute_result"
    }
   ],
   "source": [
    "b = np.random.randint(1,10,10).reshape((2,5))\n",
    "b"
   ]
  },
  {
   "cell_type": "code",
   "execution_count": 32,
   "id": "5370648a",
   "metadata": {},
   "outputs": [
    {
     "data": {
      "text/plain": [
       "True"
      ]
     },
     "execution_count": 32,
     "metadata": {},
     "output_type": "execute_result"
    }
   ],
   "source": [
    "(a>b).any()"
   ]
  },
  {
   "cell_type": "code",
   "execution_count": 33,
   "id": "0aedba43",
   "metadata": {},
   "outputs": [
    {
     "data": {
      "text/plain": [
       "True"
      ]
     },
     "execution_count": 33,
     "metadata": {},
     "output_type": "execute_result"
    }
   ],
   "source": [
    "(a<b).any()"
   ]
  },
  {
   "cell_type": "code",
   "execution_count": 34,
   "id": "f47ba8cd",
   "metadata": {},
   "outputs": [
    {
     "data": {
      "text/plain": [
       "array([[False, False, False, False, False],\n",
       "       [False,  True, False, False, False]])"
      ]
     },
     "execution_count": 34,
     "metadata": {},
     "output_type": "execute_result"
    }
   ],
   "source": [
    "np.logical_and(b>5,b<7)"
   ]
  },
  {
   "cell_type": "markdown",
   "id": "ffa3a139",
   "metadata": {},
   "source": [
    "### np.where"
   ]
  },
  {
   "cell_type": "code",
   "execution_count": 38,
   "id": "2ce59dab",
   "metadata": {},
   "outputs": [
    {
     "data": {
      "text/plain": [
       "array([[2, 2, 2, 2, 2],\n",
       "       [2, 3, 3, 3, 3]])"
      ]
     },
     "execution_count": 38,
     "metadata": {},
     "output_type": "execute_result"
    }
   ],
   "source": [
    "# where(조건,참일때 값, 거짓일때 값)\n",
    "np.where(a>5,3,2)"
   ]
  },
  {
   "cell_type": "markdown",
   "id": "87414277",
   "metadata": {},
   "source": [
    "###  argmax & argmin"
   ]
  },
  {
   "cell_type": "code",
   "execution_count": 46,
   "id": "d4ca025f",
   "metadata": {},
   "outputs": [
    {
     "name": "stdout",
     "output_type": "stream",
     "text": [
      "[47 59 11  1 47 35 26 97 15 44]\n",
      "최대값의 인덱스7, 최소값의 인덱스3\n"
     ]
    }
   ],
   "source": [
    "a = np.random.randint(1,100,10)\n",
    "print(a)\n",
    "print(f'최대값의 인덱스{np.argmax(a)}, 최소값의 인덱스{np.argmin(a)}')"
   ]
  },
  {
   "cell_type": "markdown",
   "id": "042dd8b8",
   "metadata": {},
   "source": [
    "### fancy index"
   ]
  },
  {
   "cell_type": "code",
   "execution_count": 52,
   "id": "677f6187",
   "metadata": {},
   "outputs": [
    {
     "data": {
      "text/plain": [
       "array([2., 2., 6., 4., 8.])"
      ]
     },
     "execution_count": 52,
     "metadata": {},
     "output_type": "execute_result"
    }
   ],
   "source": [
    "a = np.array([2,4,6,8],float)\n",
    "b = np.array([0,0,2,1,3],int)\n",
    "a[b]"
   ]
  },
  {
   "cell_type": "code",
   "execution_count": 49,
   "id": "af0df833",
   "metadata": {},
   "outputs": [
    {
     "data": {
      "text/plain": [
       "array([2, 2, 6, 4, 8])"
      ]
     },
     "execution_count": 49,
     "metadata": {},
     "output_type": "execute_result"
    }
   ],
   "source": [
    "# a[b]와 동일한 기능 take\n",
    "a.take(b)"
   ]
  },
  {
   "cell_type": "markdown",
   "id": "159ae4ad",
   "metadata": {},
   "source": [
    "### loadtxt & savetxt"
   ]
  },
  {
   "cell_type": "code",
   "execution_count": 59,
   "id": "8ff65dcb",
   "metadata": {},
   "outputs": [
    {
     "data": {
      "text/plain": [
       "array([2, 4, 6, 8])"
      ]
     },
     "execution_count": 59,
     "metadata": {},
     "output_type": "execute_result"
    }
   ],
   "source": [
    "a_int = a.astype(int)\n",
    "a_int"
   ]
  },
  {
   "cell_type": "code",
   "execution_count": 60,
   "id": "64f43c90",
   "metadata": {},
   "outputs": [],
   "source": [
    "np.savetxt('int_data.csv',a_int,delimiter=',')"
   ]
  },
  {
   "cell_type": "code",
   "execution_count": 61,
   "id": "98e86668",
   "metadata": {},
   "outputs": [
    {
     "data": {
      "text/plain": [
       "array([2., 4., 6., 8.])"
      ]
     },
     "execution_count": 61,
     "metadata": {},
     "output_type": "execute_result"
    }
   ],
   "source": [
    "new_a = np.loadtxt(\"./int_data.csv\")\n",
    "new_a"
   ]
  },
  {
   "cell_type": "markdown",
   "id": "92331b8a",
   "metadata": {},
   "source": [
    "### numpy object -npy"
   ]
  },
  {
   "cell_type": "code",
   "execution_count": 63,
   "id": "baddf9fc",
   "metadata": {},
   "outputs": [],
   "source": [
    "# npy 확장자로 저장\n",
    "np.save(\"npy_test_object\",arr = a_int)"
   ]
  },
  {
   "cell_type": "code",
   "execution_count": null,
   "id": "70fd2be8",
   "metadata": {},
   "outputs": [],
   "source": []
  }
 ],
 "metadata": {
  "kernelspec": {
   "display_name": "Python 3 (ipykernel)",
   "language": "python",
   "name": "python3"
  },
  "language_info": {
   "codemirror_mode": {
    "name": "ipython",
    "version": 3
   },
   "file_extension": ".py",
   "mimetype": "text/x-python",
   "name": "python",
   "nbconvert_exporter": "python",
   "pygments_lexer": "ipython3",
   "version": "3.9.7"
  }
 },
 "nbformat": 4,
 "nbformat_minor": 5
}
