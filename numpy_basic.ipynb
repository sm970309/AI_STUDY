{
 "cells": [
  {
   "cell_type": "code",
   "execution_count": 1,
   "id": "655fbf73",
   "metadata": {},
   "outputs": [],
   "source": [
    "import numpy as np"
   ]
  },
  {
   "cell_type": "code",
   "execution_count": 6,
   "id": "b4eda147",
   "metadata": {},
   "outputs": [
    {
     "data": {
      "text/plain": [
       "array([[0, 1, 2, 3, 4],\n",
       "       [5, 6, 7, 8, 9]])"
      ]
     },
     "execution_count": 6,
     "metadata": {},
     "output_type": "execute_result"
    }
   ],
   "source": [
    "a = np.arange(10)\n",
    "a = np.reshape(a,(2,5))\n",
    "a"
   ]
  },
  {
   "cell_type": "code",
   "execution_count": 7,
   "id": "7f40c120",
   "metadata": {},
   "outputs": [
    {
     "data": {
      "text/plain": [
       "array([[ True,  True,  True,  True, False],\n",
       "       [False, False, False, False, False]])"
      ]
     },
     "execution_count": 7,
     "metadata": {},
     "output_type": "execute_result"
    }
   ],
   "source": [
    "a<4"
   ]
  },
  {
   "cell_type": "code",
   "execution_count": 9,
   "id": "33e60404",
   "metadata": {},
   "outputs": [
    {
     "data": {
      "text/plain": [
       "True"
      ]
     },
     "execution_count": 9,
     "metadata": {},
     "output_type": "execute_result"
    }
   ],
   "source": [
    "# or 조건 any\n",
    "np.any(a>5)"
   ]
  },
  {
   "cell_type": "code",
   "execution_count": 11,
   "id": "56aa81b3",
   "metadata": {},
   "outputs": [
    {
     "data": {
      "text/plain": [
       "False"
      ]
     },
     "execution_count": 11,
     "metadata": {},
     "output_type": "execute_result"
    }
   ],
   "source": [
    "# and 조건 all\n",
    "np.all(a>5)"
   ]
  },
  {
   "cell_type": "code",
   "execution_count": 31,
   "id": "c85ff3c1",
   "metadata": {},
   "outputs": [
    {
     "data": {
      "text/plain": [
       "array([[8, 7, 8, 8, 2],\n",
       "       [4, 6, 8, 5, 3]])"
      ]
     },
     "execution_count": 31,
     "metadata": {},
     "output_type": "execute_result"
    }
   ],
   "source": [
    "b = np.random.randint(1,10,10).reshape((2,5))\n",
    "b"
   ]
  },
  {
   "cell_type": "code",
   "execution_count": 32,
   "id": "a51c68f1",
   "metadata": {},
   "outputs": [
    {
     "data": {
      "text/plain": [
       "True"
      ]
     },
     "execution_count": 32,
     "metadata": {},
     "output_type": "execute_result"
    }
   ],
   "source": [
    "(a>b).any()"
   ]
  },
  {
   "cell_type": "code",
   "execution_count": 33,
   "id": "dec239e9",
   "metadata": {},
   "outputs": [
    {
     "data": {
      "text/plain": [
       "True"
      ]
     },
     "execution_count": 33,
     "metadata": {},
     "output_type": "execute_result"
    }
   ],
   "source": [
    "(a<b).any()"
   ]
  },
  {
   "cell_type": "code",
   "execution_count": 34,
   "id": "0f31f2ad",
   "metadata": {},
   "outputs": [
    {
     "data": {
      "text/plain": [
       "array([[False, False, False, False, False],\n",
       "       [False,  True, False, False, False]])"
      ]
     },
     "execution_count": 34,
     "metadata": {},
     "output_type": "execute_result"
    }
   ],
   "source": [
    "np.logical_and(b>5,b<7)"
   ]
  },
  {
   "cell_type": "markdown",
   "id": "fec1c323",
   "metadata": {},
   "source": [
    "### np.where"
   ]
  },
  {
   "cell_type": "code",
   "execution_count": 38,
   "id": "b0dde57d",
   "metadata": {},
   "outputs": [
    {
     "data": {
      "text/plain": [
       "array([[2, 2, 2, 2, 2],\n",
       "       [2, 3, 3, 3, 3]])"
      ]
     },
     "execution_count": 38,
     "metadata": {},
     "output_type": "execute_result"
    }
   ],
   "source": [
    "# where(조건,참일때 값, 거짓일때 값)\n",
    "np.where(a>5,3,2)"
   ]
  },
  {
   "cell_type": "markdown",
   "id": "77882f2d",
   "metadata": {},
   "source": [
    "###  argmax & argmin"
   ]
  },
  {
   "cell_type": "code",
   "execution_count": 46,
   "id": "4b3defb1",
   "metadata": {},
   "outputs": [
    {
     "name": "stdout",
     "output_type": "stream",
     "text": [
      "[47 59 11  1 47 35 26 97 15 44]\n",
      "최대값의 인덱스7, 최소값의 인덱스3\n"
     ]
    }
   ],
   "source": [
    "a = np.random.randint(1,100,10)\n",
    "print(a)\n",
    "print(f'최대값의 인덱스{np.argmax(a)}, 최소값의 인덱스{np.argmin(a)}')"
   ]
  },
  {
   "cell_type": "markdown",
   "id": "6d0c3fd0",
   "metadata": {},
   "source": [
    "### fancy index"
   ]
  },
  {
   "cell_type": "code",
   "execution_count": 52,
   "id": "0ef74df5",
   "metadata": {},
   "outputs": [
    {
     "data": {
      "text/plain": [
       "array([2., 2., 6., 4., 8.])"
      ]
     },
     "execution_count": 52,
     "metadata": {},
     "output_type": "execute_result"
    }
   ],
   "source": [
    "a = np.array([2,4,6,8],float)\n",
    "b = np.array([0,0,2,1,3],int)\n",
    "a[b]"
   ]
  },
  {
   "cell_type": "code",
   "execution_count": 49,
   "id": "e7ba209d",
   "metadata": {},
   "outputs": [
    {
     "data": {
      "text/plain": [
       "array([2, 2, 6, 4, 8])"
      ]
     },
     "execution_count": 49,
     "metadata": {},
     "output_type": "execute_result"
    }
   ],
   "source": [
    "# a[b]와 동일한 기능 take\n",
    "a.take(b)"
   ]
  },
  {
   "cell_type": "markdown",
   "id": "4ae6b13a",
   "metadata": {},
   "source": [
    "### loadtxt & savetxt"
   ]
  },
  {
   "cell_type": "code",
   "execution_count": 59,
   "id": "539d6f2b",
   "metadata": {},
   "outputs": [
    {
     "data": {
      "text/plain": [
       "array([2, 4, 6, 8])"
      ]
     },
     "execution_count": 59,
     "metadata": {},
     "output_type": "execute_result"
    }
   ],
   "source": [
    "a_int = a.astype(int)\n",
    "a_int"
   ]
  },
  {
   "cell_type": "code",
   "execution_count": 60,
   "id": "92a15eda",
   "metadata": {},
   "outputs": [],
   "source": [
    "np.savetxt('int_data.csv',a_int,delimiter=',')"
   ]
  },
  {
   "cell_type": "code",
   "execution_count": 61,
   "id": "dde539f0",
   "metadata": {},
   "outputs": [
    {
     "data": {
      "text/plain": [
       "array([2., 4., 6., 8.])"
      ]
     },
     "execution_count": 61,
     "metadata": {},
     "output_type": "execute_result"
    }
   ],
   "source": [
    "new_a = np.loadtxt(\"./int_data.csv\")\n",
    "new_a"
   ]
  },
  {
   "cell_type": "markdown",
   "id": "bfdc01e7",
   "metadata": {},
   "source": [
    "### numpy object -npy (pickle 형태로 저장)"
   ]
  },
  {
   "cell_type": "code",
   "execution_count": 63,
   "id": "832d2470",
   "metadata": {},
   "outputs": [],
   "source": [
    "# npy 확장자로 저장\n",
    "np.save(\"npy_test_object\",arr = a_int)"
   ]
  },
  {
   "cell_type": "code",
   "execution_count": 64,
   "id": "5b1a0865",
   "metadata": {},
   "outputs": [
    {
     "data": {
      "text/plain": [
       "array([2, 4, 6, 8])"
      ]
     },
     "execution_count": 64,
     "metadata": {},
     "output_type": "execute_result"
    }
   ],
   "source": [
    "npy_array = np.load('npy_test_object.npy')\n",
    "npy_array"
   ]
  }
 ],
 "metadata": {
  "kernelspec": {
   "display_name": "Python 3 (ipykernel)",
   "language": "python",
   "name": "python3"
  },
  "language_info": {
   "codemirror_mode": {
    "name": "ipython",
    "version": 3
   },
   "file_extension": ".py",
   "mimetype": "text/x-python",
   "name": "python",
   "nbconvert_exporter": "python",
   "pygments_lexer": "ipython3",
   "version": "3.9.7"
  }
 },
 "nbformat": 4,
 "nbformat_minor": 5
}
