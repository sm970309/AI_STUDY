{
 "cells": [
  {
   "cell_type": "code",
   "execution_count": 20,
   "metadata": {},
   "outputs": [],
   "source": [
    "import torch\n",
    "\n",
    "x_train = torch.FloatTensor([[1],[2],[3]])\n",
    "y_train = torch.FloatTensor([[2],[4],[6]])\n",
    "\n",
    "W = torch.zeros(1)\n",
    "b = torch.zeros(1)"
   ]
  },
  {
   "cell_type": "markdown",
   "metadata": {},
   "source": [
    "# torch.optim 없이 구현"
   ]
  },
  {
   "cell_type": "code",
   "execution_count": 21,
   "metadata": {},
   "outputs": [
    {
     "name": "stdout",
     "output_type": "stream",
     "text": [
      "tensor(18.6667) tensor([0.]) tensor([0.])\n",
      "tensor(0.0378) tensor([1.7740]) tensor([0.5137])\n",
      "tensor(0.0184) tensor([1.8425]) tensor([0.3579])\n",
      "tensor(0.0089) tensor([1.8903]) tensor([0.2494])\n",
      "tensor(0.0043) tensor([1.9236]) tensor([0.1738])\n",
      "tensor(0.0021) tensor([1.9467]) tensor([0.1211])\n",
      "tensor(0.0010) tensor([1.9629]) tensor([0.0844])\n",
      "tensor(0.0005) tensor([1.9741]) tensor([0.0588])\n",
      "tensor(0.0002) tensor([1.9820]) tensor([0.0410])\n",
      "tensor(0.0001) tensor([1.9874]) tensor([0.0285])\n"
     ]
    }
   ],
   "source": [
    "epochs = 1000\n",
    "lr = 0.01\n",
    "for epoch in range(epochs):\n",
    "    hypothesis = x_train*W+b\n",
    "    cost = torch.mean((hypothesis-y_train)**2)\n",
    "    \n",
    "    gradient_W = torch.sum((hypothesis-y_train)*x_train)\n",
    "    gradient_b = torch.sum(hypothesis-y_train)\n",
    "    \n",
    "    if epoch%100==0:\n",
    "        print(cost,W,b)\n",
    "    W -= lr*gradient_W\n",
    "    b -= lr*gradient_b"
   ]
  },
  {
   "cell_type": "code",
   "execution_count": 12,
   "metadata": {},
   "outputs": [
    {
     "data": {
      "text/plain": [
       "(tensor([2.0000]), tensor([5.8394e-06]))"
      ]
     },
     "execution_count": 12,
     "metadata": {},
     "output_type": "execute_result"
    }
   ],
   "source": [
    "W,b"
   ]
  },
  {
   "cell_type": "markdown",
   "metadata": {},
   "source": [
    "# torch.optim 사용하여 구현"
   ]
  },
  {
   "cell_type": "code",
   "execution_count": 13,
   "metadata": {},
   "outputs": [],
   "source": [
    "x_train = torch.FloatTensor([[1],[2],[3]])\n",
    "y_train = torch.FloatTensor([[2],[4],[6]])\n",
    "\n",
    "W = torch.zeros(1,requires_grad=True)\n",
    "b = torch.zeros(1,requires_grad=True)"
   ]
  },
  {
   "cell_type": "code",
   "execution_count": 14,
   "metadata": {},
   "outputs": [],
   "source": [
    "optimizer = torch.optim.SGD([W,b],lr=0.01)\n",
    "epochs = 10000\n",
    "\n",
    "for epoch in range(epochs):\n",
    "    hypothesis = x_train*W+b\n",
    "    cost = torch.mean((hypothesis-y_train)**2)\n",
    "    \n",
    "    optimizer.zero_grad() # gradient 초기화\n",
    "    cost.backward() #gradient 계산\n",
    "    optimizer.step() #optimizer 학습"
   ]
  },
  {
   "cell_type": "code",
   "execution_count": 15,
   "metadata": {},
   "outputs": [
    {
     "name": "stdout",
     "output_type": "stream",
     "text": [
      "W :1.9999957084655762, b :8.701807018951513e-06\n"
     ]
    }
   ],
   "source": [
    "print(f'W :{W[0]}, b :{b[0]}')"
   ]
  }
 ],
 "metadata": {
  "kernelspec": {
   "display_name": "Python 3",
   "language": "python",
   "name": "python3"
  },
  "language_info": {
   "codemirror_mode": {
    "name": "ipython",
    "version": 3
   },
   "file_extension": ".py",
   "mimetype": "text/x-python",
   "name": "python",
   "nbconvert_exporter": "python",
   "pygments_lexer": "ipython3",
   "version": "3.8.5"
  }
 },
 "nbformat": 4,
 "nbformat_minor": 4
}
