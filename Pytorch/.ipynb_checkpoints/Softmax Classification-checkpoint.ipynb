{
 "cells": [
  {
   "cell_type": "code",
   "execution_count": 1,
   "metadata": {},
   "outputs": [
    {
     "data": {
      "text/plain": [
       "<torch._C.Generator at 0x257db5b3590>"
      ]
     },
     "execution_count": 1,
     "metadata": {},
     "output_type": "execute_result"
    }
   ],
   "source": [
    "import torch\n",
    "import torch.nn as nn\n",
    "import torch.nn.functional as F\n",
    "import torch.optim as optim\n",
    "\n",
    "# For reproducibility\n",
    "torch.manual_seed(1)"
   ]
  },
  {
   "attachments": {
    "image-2.png": {
     "image/png": "[encoded data removed]"
    }
   },
   "cell_type": "markdown",
   "metadata": {},
   "source": [
    "![image-2.png](attachment:image-2.png)"
   ]
  },
  {
   "attachments": {
    "image.png": {
     "image/png": "[encoded data removed]"
    }
   },
   "cell_type": "markdown",
   "metadata": {},
   "source": [
    "![image.png](attachment:image.png)"
   ]
  },
  {
   "cell_type": "markdown",
   "metadata": {},
   "source": [
    "# without Function"
   ]
  },
  {
   "cell_type": "code",
   "execution_count": 54,
   "metadata": {},
   "outputs": [],
   "source": [
    "class SoftmaxClassifierModel(nn.Module):\n",
    "    def __init__(self,m,d):\n",
    "        super().__init__()\n",
    "        self.linear = nn.Linear(d, m)\n",
    "\n",
    "    def forward(self, x):\n",
    "        return self.linear(x)"
   ]
  },
  {
   "cell_type": "code",
   "execution_count": 55,
   "metadata": {},
   "outputs": [],
   "source": [
    "x_train = [[1, 2, 1, 1],\n",
    "           [2, 1, 3, 2],\n",
    "           [3, 1, 3, 4],\n",
    "           [4, 1, 5, 5],\n",
    "           [1, 7, 5, 5],\n",
    "           [1, 2, 5, 6],\n",
    "           [1, 6, 6, 6],\n",
    "           [1, 7, 7, 7]]\n",
    "y_train = [2, 2, 2, 1, 1, 1, 0, 0]\n",
    "x_train = torch.FloatTensor(x_train)\n",
    "y_train = torch.LongTensor(y_train)"
   ]
  },
  {
   "cell_type": "code",
   "execution_count": 56,
   "metadata": {},
   "outputs": [],
   "source": [
    "# model 정의   -> m개의 d차원\n",
    "model = SoftmaxClassifierModel(x_train.shape[0],x_train.shape[1])"
   ]
  },
  {
   "cell_type": "code",
   "execution_count": 57,
   "metadata": {},
   "outputs": [],
   "source": [
    "# optimizer 정의\n",
    "optimizer = optim.SGD(model.parameters(),lr=0.1)"
   ]
  },
  {
   "cell_type": "code",
   "execution_count": 58,
   "metadata": {},
   "outputs": [
    {
     "data": {
      "text/plain": [
       "tensor([[1.2110e-01, 9.6836e-02, 3.0231e-01, 6.2538e-02, 1.0614e-01, 1.0285e-01,\n",
       "         9.5549e-02, 1.1267e-01],\n",
       "        [4.9386e-02, 2.3149e-02, 5.6592e-01, 4.9458e-02, 1.1217e-01, 6.7960e-02,\n",
       "         2.0447e-02, 1.1151e-01],\n",
       "        [3.6944e-02, 6.2959e-03, 5.7628e-01, 6.5005e-02, 9.4623e-02, 5.2293e-02,\n",
       "         7.5006e-03, 1.6106e-01],\n",
       "        [9.5611e-03, 9.6305e-04, 8.1143e-01, 2.1968e-02, 5.7403e-02, 2.1398e-02,\n",
       "         1.3521e-03, 7.5929e-02],\n",
       "        [2.7443e-02, 1.8662e-03, 7.5592e-01, 3.7107e-03, 1.6986e-01, 1.3205e-02,\n",
       "         1.5984e-02, 1.2014e-02],\n",
       "        [3.7691e-02, 1.3772e-03, 3.6214e-01, 4.5196e-02, 4.5449e-01, 1.6480e-02,\n",
       "         3.5574e-03, 7.9062e-02],\n",
       "        [2.0169e-02, 7.2696e-04, 6.9074e-01, 4.7495e-03, 2.5502e-01, 8.8947e-03,\n",
       "         5.7570e-03, 1.3943e-02],\n",
       "        [1.1989e-02, 2.3288e-04, 7.1721e-01, 2.2295e-03, 2.5339e-01, 4.6152e-03,\n",
       "         2.9552e-03, 7.3746e-03]], grad_fn=<SoftmaxBackward0>)"
      ]
     },
     "execution_count": 58,
     "metadata": {},
     "output_type": "execute_result"
    }
   ],
   "source": [
    "# 예측값에 softmax 적용\n",
    "hypothesis = model(x_train)\n",
    "y_predict = F.softmax(hypothesis,dim=1)\n",
    "y_predict"
   ]
  },
  {
   "cell_type": "code",
   "execution_count": 69,
   "metadata": {},
   "outputs": [
    {
     "data": {
      "text/plain": [
       "tensor([[0., 0., 1., 0., 0., 0., 0., 0.],\n",
       "        [0., 0., 1., 0., 0., 0., 0., 0.],\n",
       "        [0., 0., 1., 0., 0., 0., 0., 0.],\n",
       "        [0., 1., 0., 0., 0., 0., 0., 0.],\n",
       "        [0., 1., 0., 0., 0., 0., 0., 0.],\n",
       "        [0., 1., 0., 0., 0., 0., 0., 0.],\n",
       "        [1., 0., 0., 0., 0., 0., 0., 0.],\n",
       "        [1., 0., 0., 0., 0., 0., 0., 0.]])"
      ]
     },
     "execution_count": 69,
     "metadata": {},
     "output_type": "execute_result"
    }
   ],
   "source": [
    "# one-hot 벡터 만들기\n",
    "y_one_hot = torch.zeros_like(y_predict)\n",
    "y_one_hot.scatter_(1,y_train.unsqueeze(1),1)\n",
    "y_one_hot"
   ]
  },
  {
   "cell_type": "code",
   "execution_count": 68,
   "metadata": {},
   "outputs": [
    {
     "name": "stdout",
     "output_type": "stream",
     "text": [
      "Epoch    0/1000 Cost: 11.243940\n",
      "Epoch  100/1000 Cost: 0.501289\n",
      "Epoch  200/1000 Cost: 0.434768\n",
      "Epoch  300/1000 Cost: 0.388907\n",
      "Epoch  400/1000 Cost: 0.348694\n",
      "Epoch  500/1000 Cost: 0.310113\n",
      "Epoch  600/1000 Cost: 0.271956\n",
      "Epoch  700/1000 Cost: 0.242135\n",
      "Epoch  800/1000 Cost: 0.228653\n",
      "Epoch  900/1000 Cost: 0.217235\n",
      "Epoch 1000/1000 Cost: 0.206930\n"
     ]
    }
   ],
   "source": [
    "epochs = 1000\n",
    "\n",
    "for epoch in range(epochs+1):\n",
    "    hypothesis = model(x_train)\n",
    "    y_predict = F.softmax(hypothesis,dim=1)\n",
    "    y_one_hot = torch.zeros_like(y_predict)\n",
    "    y_one_hot.scatter_(1,y_train.unsqueeze(1),1)\n",
    "    cost = (y_one_hot*-torch.log(y_predict)).sum(dim=1).mean()\n",
    "    \n",
    "    # cost로 H(x) 개선\n",
    "    optimizer.zero_grad()\n",
    "    cost.backward()\n",
    "    optimizer.step()\n",
    "\n",
    "    # 100번마다 로그 출력\n",
    "    if epoch % 100 == 0:\n",
    "        print('Epoch {:4d}/{} Cost: {:.6f}'.format(\n",
    "            epoch, epochs, cost.item()\n",
    "        ))"
   ]
  },
  {
   "cell_type": "code",
   "execution_count": 62,
   "metadata": {},
   "outputs": [
    {
     "data": {
      "text/plain": [
       "[Parameter containing:\n",
       " tensor([[-2.8936, -0.0577,  2.7653, -0.2260],\n",
       "         [ 0.6030,  0.0483,  0.0517,  1.3553],\n",
       "         [ 3.1580,  0.9778, -1.4627, -0.3242],\n",
       "         [-0.2826, -0.6196, -0.4050,  0.1132],\n",
       "         [-0.6526, -0.4425, -0.0403, -0.0605],\n",
       "         [ 0.0054, -0.2982, -0.2706, -0.3137],\n",
       "         [-0.3000,  0.0158, -0.3169, -0.4182],\n",
       "         [-0.1136, -0.5661, -0.4091, -0.0449]], requires_grad=True),\n",
       " Parameter containing:\n",
       " tensor([-1.9941e+00, -5.0993e-01,  3.3223e+00, -8.8475e-02, -2.6131e-01,\n",
       "         -3.9537e-01, -3.7785e-01, -1.9842e-03], requires_grad=True)]"
      ]
     },
     "execution_count": 62,
     "metadata": {},
     "output_type": "execute_result"
    }
   ],
   "source": [
    "list(model.parameters())"
   ]
  },
  {
   "cell_type": "markdown",
   "metadata": {},
   "source": [
    "## with Function"
   ]
  },
  {
   "cell_type": "code",
   "execution_count": 63,
   "metadata": {},
   "outputs": [],
   "source": [
    "model = SoftmaxClassifierModel(x_train.shape[0],x_train.shape[1])\n",
    "optimizer = optim.SGD(model.parameters(),lr=0.1)"
   ]
  },
  {
   "cell_type": "code",
   "execution_count": 64,
   "metadata": {},
   "outputs": [
    {
     "name": "stdout",
     "output_type": "stream",
     "text": [
      "Epoch    0/1000 Cost: 6.650511\n",
      "Epoch  100/1000 Cost: 0.667230\n",
      "Epoch  200/1000 Cost: 0.565307\n",
      "Epoch  300/1000 Cost: 0.506899\n",
      "Epoch  400/1000 Cost: 0.461129\n",
      "Epoch  500/1000 Cost: 0.421058\n",
      "Epoch  600/1000 Cost: 0.383848\n",
      "Epoch  700/1000 Cost: 0.347797\n",
      "Epoch  800/1000 Cost: 0.311664\n",
      "Epoch  900/1000 Cost: 0.274973\n",
      "Epoch 1000/1000 Cost: 0.244040\n"
     ]
    }
   ],
   "source": [
    "for epoch in range(epochs+1):\n",
    "    y_predict = model(x_train)\n",
    "    cost = F.cross_entropy(y_predict,y_train)\n",
    "    \n",
    "    # cost로 H(x) 개선\n",
    "    optimizer.zero_grad()\n",
    "    cost.backward()\n",
    "    optimizer.step()\n",
    "\n",
    "    # 100번마다 로그 출력\n",
    "    if epoch % 100 == 0:\n",
    "        print('Epoch {:4d}/{} Cost: {:.6f}'.format(\n",
    "            epoch, epochs, cost.item()\n",
    "        ))"
   ]
  },
  {
   "cell_type": "code",
   "execution_count": 66,
   "metadata": {},
   "outputs": [
    {
     "data": {
      "text/plain": [
       "[Parameter containing:\n",
       " tensor([[-2.6914, -0.0809,  2.7444, -0.3065],\n",
       "         [ 0.9330,  0.0894, -0.2139,  1.5188],\n",
       "         [ 3.0426,  0.7871, -1.6859,  0.0522],\n",
       "         [-0.1152, -0.4610, -0.5439, -0.0312],\n",
       "         [ 0.0303, -0.1275, -0.5092, -0.4097],\n",
       "         [-0.1561, -0.4355, -0.6476,  0.1517],\n",
       "         [-0.2626, -0.1268, -0.2455, -0.7147],\n",
       "         [-0.3765, -0.0834, -0.2694, -0.6370]], requires_grad=True),\n",
       " Parameter containing:\n",
       " tensor([-2.0094, -0.8236,  3.5881,  0.0568, -0.1221, -0.2647,  0.2927,  0.1391],\n",
       "        requires_grad=True)]"
      ]
     },
     "execution_count": 66,
     "metadata": {},
     "output_type": "execute_result"
    }
   ],
   "source": [
    "list(model.parameters())"
   ]
  }
 ],
 "metadata": {
  "kernelspec": {
   "display_name": "Python 3",
   "language": "python",
   "name": "python3"
  },
  "language_info": {
   "codemirror_mode": {
    "name": "ipython",
    "version": 3
   },
   "file_extension": ".py",
   "mimetype": "text/x-python",
   "name": "python",
   "nbconvert_exporter": "python",
   "pygments_lexer": "ipython3",
   "version": "3.8.5"
  }
 },
 "nbformat": 4,
 "nbformat_minor": 4
}
